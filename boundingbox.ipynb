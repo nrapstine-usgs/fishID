{
 "cells": [
  {
   "cell_type": "markdown",
   "metadata": {},
   "source": [
    "Reading in video from a local file, saving and displaying every 1000th frame. "
   ]
  },
  {
   "cell_type": "code",
   "execution_count": 5,
   "metadata": {},
   "outputs": [
    {
     "name": "stdout",
     "output_type": "stream",
     "text": [
      "0\n",
      "1000\n",
      "2000\n",
      "3000\n",
      "4000\n",
      "5000\n",
      "6000\n",
      "7000\n",
      "8000\n",
      "9000\n",
      "10000\n",
      "11000\n"
     ]
    }
   ],
   "source": [
    "import cv2\n",
    "\n",
    "vidcap = cv2.VideoCapture('fishvid.mp4')\n",
    "success, image = vidcap.read()\n",
    "\n",
    "count = 0\n",
    "while success:\n",
    "    \n",
    "    success, image = vidcap.read()\n",
    "    # print('Read a new frame: ', success)\n",
    " \n",
    "    if count % 1000 == 0:\n",
    "        print(count)\n",
    "        \n",
    "        # save frame as JPEG file \n",
    "        # mkdir data beforehand\n",
    "        cv2.imwrite(\"./data/frame%d.jpg\" % count, image) \n",
    "        cv2.imshow('image', image)\n",
    "        \n",
    "        # press Enter to continue\n",
    "        cv2.waitKey()\n",
    "\n",
    "    count += 1\n",
    "    \n",
    "cv2.destroyAllWindows()\n",
    "vidcap.release()"
   ]
  },
  {
   "cell_type": "code",
   "execution_count": 6,
   "metadata": {},
   "outputs": [
    {
     "name": "stdout",
     "output_type": "stream",
     "text": [
      "11623\n"
     ]
    }
   ],
   "source": [
    "print(count)"
   ]
  },
  {
   "cell_type": "code",
   "execution_count": 7,
   "metadata": {},
   "outputs": [
    {
     "name": "stdout",
     "output_type": "stream",
     "text": [
      "OpenCV Version: 3.4.1\n"
     ]
    }
   ],
   "source": [
    "(major_ver, minor_ver, subminor_ver) = (cv2.__version__).split('.')\n",
    "print('OpenCV Version: {}.{}.{}'.format(major_ver, minor_ver, subminor_ver))"
   ]
  },
  {
   "cell_type": "code",
   "execution_count": 8,
   "metadata": {},
   "outputs": [],
   "source": [
    "# Display result\n",
    "img = cv2.imread('./data/frame9000.jpg')\n",
    "cv2.imshow('image', img)\n",
    "cv2.waitKey()\n",
    "cv2.destroyAllWindows()"
   ]
  },
  {
   "cell_type": "code",
   "execution_count": null,
   "metadata": {},
   "outputs": [],
   "source": []
  }
 ],
 "metadata": {
  "kernelspec": {
   "display_name": "Python 3",
   "language": "python",
   "name": "python3"
  },
  "language_info": {
   "codemirror_mode": {
    "name": "ipython",
    "version": 3
   },
   "file_extension": ".py",
   "mimetype": "text/x-python",
   "name": "python",
   "nbconvert_exporter": "python",
   "pygments_lexer": "ipython3",
   "version": "3.6.4"
  }
 },
 "nbformat": 4,
 "nbformat_minor": 2
}
